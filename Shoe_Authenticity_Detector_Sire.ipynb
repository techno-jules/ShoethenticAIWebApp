{
  "cells": [
    {
      "cell_type": "markdown",
      "metadata": {
        "id": "view-in-github",
        "colab_type": "text"
      },
      "source": [
        "<a href=\"https://colab.research.google.com/github/techno-jules/ShoethenticAIWebApp/blob/main/Shoe_Authenticity_Detector_Sire.ipynb\" target=\"_parent\"><img src=\"https://colab.research.google.com/assets/colab-badge.svg\" alt=\"Open In Colab\"/></a>"
      ]
    },
    {
      "cell_type": "code",
      "execution_count": null,
      "metadata": {
        "id": "FUPNqCT4GbP-",
        "colab": {
          "base_uri": "https://localhost:8080/"
        },
        "outputId": "ffe1e90f-75a6-46ef-df83-45dcd1796e62"
      },
      "outputs": [
        {
          "output_type": "stream",
          "name": "stdout",
          "text": [
            "Mounted at /content/drive\n"
          ]
        }
      ],
      "source": [
        "from google.colab import drive\n",
        "drive.mount('/content/drive')\n",
        "\n"
      ]
    },
    {
      "cell_type": "markdown",
      "metadata": {
        "id": "41SipdHnGdpN"
      },
      "source": [
        "created by Julia Huang"
      ]
    },
    {
      "cell_type": "code",
      "execution_count": null,
      "metadata": {
        "id": "neKrljyOGenV"
      },
      "outputs": [],
      "source": [
        "from tensorflow import keras\n",
        "from tensorflow.keras import layers\n",
        "from tensorflow.keras.models import Sequential\n",
        "import pandas as pd\n",
        "import numpy as np\n",
        "import tensorflow as tf\n",
        "import os\n",
        "import matplotlib.pyplot as plt\n",
        "import pathlib\n",
        "import cv2\n",
        "import glob\n",
        "path = '/content/drive/MyDrive/shoedataset'\n",
        "#processing images\n",
        "real_path = path+ '/Real/*.png'\n",
        "fake_path = path+ '/Fake/*.png'\n",
        "\n",
        "\n",
        "#all images are 227x227 in RGB so 227, 227, 3\n",
        "real_images = [cv2.imread(image) for image in glob.glob(real_path)]\n",
        "fake_images = [cv2.imread(image) for image in glob.glob(fake_path)]\n",
        "\n",
        "\n"
      ]
    },
    {
      "cell_type": "code",
      "execution_count": null,
      "metadata": {
        "id": "-WOF6dxlTE-C",
        "colab": {
          "base_uri": "https://localhost:8080/"
        },
        "outputId": "f396f82d-2264-4c57-a16e-ed91a70e936e"
      },
      "outputs": [
        {
          "output_type": "execute_result",
          "data": {
            "text/plain": [
              "[]"
            ]
          },
          "metadata": {},
          "execution_count": 89
        }
      ],
      "source": [
        "real_images"
      ]
    },
    {
      "cell_type": "code",
      "execution_count": null,
      "metadata": {
        "id": "0qR7tMIBS_Mf",
        "colab": {
          "base_uri": "https://localhost:8080/"
        },
        "outputId": "a9f31536-9554-4a70-8287-b14a7b181c79"
      },
      "outputs": [
        {
          "output_type": "stream",
          "name": "stdout",
          "text": [
            "Found 121 files belonging to 2 classes.\n",
            "Using 97 files for training.\n",
            "Found 121 files belonging to 2 classes.\n",
            "Using 24 files for validation.\n"
          ]
        }
      ],
      "source": [
        "train_dataset = tf.keras.utils.image_dataset_from_directory(\n",
        "    path,\n",
        "    validation_split = 0.2,\n",
        "    subset = \"training\",\n",
        "    seed = 24,\n",
        "    image_size = (227, 227),\n",
        "    batch_size = 64\n",
        ")\n",
        "\n",
        "val_dataset = tf.keras.utils.image_dataset_from_directory(\n",
        "    path,\n",
        "    validation_split = 0.2,\n",
        "    subset = \"validation\",\n",
        "    seed = 24,\n",
        "    image_size = (227, 227),\n",
        "    batch_size = 64\n",
        ")\n",
        "\n",
        "train_dataset = train_dataset.cache().shuffle(13).prefetch(buffer_size = tf.data.AUTOTUNE)\n",
        "val_dataset = val_dataset.cache().shuffle(13).prefetch(buffer_size = tf.data.AUTOTUNE)\n",
        "\n"
      ]
    },
    {
      "cell_type": "code",
      "execution_count": null,
      "metadata": {
        "id": "tAThOPsKTswu",
        "colab": {
          "base_uri": "https://localhost:8080/"
        },
        "outputId": "c4621843-f68f-4d7c-92ce-cc0fa7d19220"
      },
      "outputs": [
        {
          "output_type": "stream",
          "name": "stdout",
          "text": [
            "Model: \"sequential_20\"\n",
            "_________________________________________________________________\n",
            " Layer (type)                Output Shape              Param #   \n",
            "=================================================================\n",
            " conv2d_49 (Conv2D)          (None, 227, 227, 32)      896       \n",
            "                                                                 \n",
            " max_pooling2d_45 (MaxPoolin  (None, 113, 113, 32)     0         \n",
            " g2D)                                                            \n",
            "                                                                 \n",
            " conv2d_50 (Conv2D)          (None, 113, 113, 64)      18496     \n",
            "                                                                 \n",
            " max_pooling2d_46 (MaxPoolin  (None, 56, 56, 64)       0         \n",
            " g2D)                                                            \n",
            "                                                                 \n",
            " flatten_20 (Flatten)        (None, 200704)            0         \n",
            "                                                                 \n",
            " dense_40 (Dense)            (None, 100)               20070500  \n",
            "                                                                 \n",
            " batch_normalization_11 (Bat  (None, 100)              400       \n",
            " chNormalization)                                                \n",
            "                                                                 \n",
            " dense_41 (Dense)            (None, 2)                 202       \n",
            "                                                                 \n",
            "=================================================================\n",
            "Total params: 20,090,494\n",
            "Trainable params: 20,090,294\n",
            "Non-trainable params: 200\n",
            "_________________________________________________________________\n"
          ]
        }
      ],
      "source": [
        "'''\n",
        "model = Sequential ([\n",
        "    layers.Rescaling(1./255, input_shape = (227, 227, 3)),\n",
        "    #layers.RandomFlip(\"horizontal_and_vertical\"),\n",
        "    #layers.RandomRotation(0.2),\n",
        "    layers.RandomFlip(\"horizontal_and_vertical\"),\n",
        "    layers.Conv2D(32, 3, padding = 'same', activation = 'relu'),\n",
        "    layers.MaxPooling2D(),\n",
        "    layers.Conv2D(32, 3, padding = 'same', activation = 'relu'),\n",
        "    layers.MaxPooling2D(),\n",
        "    layers.Conv2D(32, 3, padding = 'same', activation = 'relu'),\n",
        "    layers.MaxPooling2D(),\n",
        "    layers.Flatten(),\n",
        "    layers.Dense(32, activation = 'relu'),\n",
        "    layers.Dense(2)\n",
        "])\n",
        "'''\n",
        "'''\n",
        "model = Sequential ([\n",
        "layers.Conv2D(16, (3, 3), activation='relu', input_shape=(227, 227, 3)),\n",
        "layers.MaxPooling2D((2, 2)),\n",
        "layers.Conv2D(32, (3, 3), padding = 'same', activation='relu'),\n",
        "layers.MaxPooling2D((2, 2)),\n",
        "layers.Conv2D(16, (3, 3), padding = 'same',activation='relu'),\n",
        "layers.Flatten(),\n",
        "layers.Dense(64, activation='softmax'),\n",
        "layers.Dense(2)\n",
        "])\n",
        "\n",
        "'''\n",
        "'''\n",
        "model = Sequential( # MODEL SO FAR- 60% ACC\n",
        "    [\n",
        "    layers.Conv2D(32, (3,3), padding='same', activation=\"relu\",input_shape=(227, 227, 3)),\n",
        "    layers.MaxPooling2D((2, 2), strides=2),\n",
        "\n",
        "    layers.Conv2D(64, (3,3), padding='same', activation=\"relu\"),\n",
        "    layers.MaxPooling2D((2, 2), strides=2),\n",
        "\n",
        "    layers.Flatten(),\n",
        "    layers.Dense(100, activation=\"relu\"),\n",
        "    layers.BatchNormalization(),\n",
        "    layers.Dense(2, activation=\"softmax\")\n",
        "])\n",
        "'''\n",
        "'''\n",
        "model = Sequential(  # best MODEL SO FAR- 80% ACC with image size 227\n",
        "    [\n",
        "    layers.Conv2D(32, (3,3), padding='same', activation=\"relu\",input_shape=(227, 227, 3)),\n",
        "    layers.MaxPooling2D((2, 2), strides=2),\n",
        "\n",
        "    layers.Conv2D(64, (3,3), padding='same', activation=\"relu\"),\n",
        "    layers.MaxPooling2D((2, 2), strides=2),\n",
        "\n",
        "    layers.Flatten(),\n",
        "    layers.Dense(100, activation=\"relu\"),\n",
        "    layers.BatchNormalization(),\n",
        "    layers.Dense(2, activation=\"sigmoid\")\n",
        "])\n",
        "'''\n",
        "\n",
        "\n",
        "model = Sequential(  # best MODEL SO FAR- 75% ACC\n",
        "    [\n",
        "      layers.Conv2D(32, (3,3), padding='same', activation=\"relu\",input_shape=(227, 227, 3)),\n",
        "    layers.MaxPooling2D((2, 2), strides=2),\n",
        "\n",
        "    layers.Conv2D(64, (3,3), padding='same', activation=\"relu\"),\n",
        "    layers.MaxPooling2D((2, 2), strides=2),\n",
        "\n",
        "    layers.Flatten(),\n",
        "    layers.Dense(100, activation=\"relu\"),\n",
        "    layers.BatchNormalization(),\n",
        "    layers.Dense(2, activation=\"sigmoid\")\n",
        "])\n",
        "model.summary()"
      ]
    },
    {
      "cell_type": "code",
      "source": [],
      "metadata": {
        "id": "hXfAUDxg-RAN"
      },
      "execution_count": null,
      "outputs": []
    },
    {
      "cell_type": "code",
      "source": [
        "model.compile(optimizer = 'adam', loss = tf.keras.losses.SparseCategoricalCrossentropy(from_logits = True), metrics = ['accuracy'])\n",
        "\n",
        "model.fit (\n",
        "    train_dataset,\n",
        "    validation_data = val_dataset,\n",
        "    epochs = 240\n",
        ")\n",
        "model.save('model.h5')"
      ],
      "metadata": {
        "colab": {
          "base_uri": "https://localhost:8080/"
        },
        "id": "jMoKjGAp5WYE",
        "outputId": "10fb0c78-2743-4be8-87e2-a06a910eb005"
      },
      "execution_count": null,
      "outputs": [
        {
          "output_type": "stream",
          "name": "stdout",
          "text": [
            "Epoch 1/240\n"
          ]
        },
        {
          "output_type": "stream",
          "name": "stderr",
          "text": [
            "/usr/local/lib/python3.7/dist-packages/tensorflow/python/util/dispatch.py:1082: UserWarning:\n",
            "\n",
            "\"`sparse_categorical_crossentropy` received `from_logits=True`, but the `output` argument was produced by a sigmoid or softmax activation and thus does not represent logits. Was this intended?\"\n",
            "\n"
          ]
        },
        {
          "output_type": "stream",
          "name": "stdout",
          "text": [
            "4/4 [==============================] - 3s 292ms/step - loss: 1.3434 - accuracy: 0.6082 - val_loss: 195.6565 - val_accuracy: 0.5417\n",
            "Epoch 2/240\n",
            "4/4 [==============================] - 0s 42ms/step - loss: 0.7179 - accuracy: 0.7835 - val_loss: 29.3370 - val_accuracy: 0.5417\n",
            "Epoch 3/240\n",
            "4/4 [==============================] - 0s 42ms/step - loss: 0.3336 - accuracy: 0.8866 - val_loss: 13.7411 - val_accuracy: 0.5417\n",
            "Epoch 4/240\n",
            "4/4 [==============================] - 0s 44ms/step - loss: 0.3132 - accuracy: 0.8557 - val_loss: 4.1176 - val_accuracy: 0.4583\n",
            "Epoch 5/240\n",
            "4/4 [==============================] - 0s 44ms/step - loss: 0.2036 - accuracy: 0.9588 - val_loss: 6.9485 - val_accuracy: 0.5417\n",
            "Epoch 6/240\n",
            "4/4 [==============================] - 0s 42ms/step - loss: 0.1205 - accuracy: 1.0000 - val_loss: 5.8225 - val_accuracy: 0.5417\n",
            "Epoch 7/240\n",
            "4/4 [==============================] - 0s 46ms/step - loss: 0.0818 - accuracy: 1.0000 - val_loss: 84.0891 - val_accuracy: 0.5417\n",
            "Epoch 8/240\n",
            "4/4 [==============================] - 0s 46ms/step - loss: 0.0498 - accuracy: 1.0000 - val_loss: 103.4757 - val_accuracy: 0.5417\n",
            "Epoch 9/240\n",
            "4/4 [==============================] - 0s 45ms/step - loss: 0.0328 - accuracy: 1.0000 - val_loss: 8.1848 - val_accuracy: 0.5417\n",
            "Epoch 10/240\n",
            "4/4 [==============================] - 0s 44ms/step - loss: 0.0232 - accuracy: 1.0000 - val_loss: 5.7250 - val_accuracy: 0.5417\n",
            "Epoch 11/240\n",
            "4/4 [==============================] - 0s 44ms/step - loss: 0.0181 - accuracy: 1.0000 - val_loss: 5.1820 - val_accuracy: 0.5417\n",
            "Epoch 12/240\n",
            "4/4 [==============================] - 0s 42ms/step - loss: 0.0164 - accuracy: 1.0000 - val_loss: 4.6727 - val_accuracy: 0.5417\n",
            "Epoch 13/240\n",
            "4/4 [==============================] - 0s 45ms/step - loss: 0.0141 - accuracy: 1.0000 - val_loss: 2.9794 - val_accuracy: 0.5417\n",
            "Epoch 14/240\n",
            "4/4 [==============================] - 0s 46ms/step - loss: 0.0134 - accuracy: 1.0000 - val_loss: 3.0123 - val_accuracy: 0.5417\n",
            "Epoch 15/240\n",
            "4/4 [==============================] - 0s 45ms/step - loss: 0.0120 - accuracy: 1.0000 - val_loss: 3.4975 - val_accuracy: 0.5417\n",
            "Epoch 16/240\n",
            "4/4 [==============================] - 0s 44ms/step - loss: 0.0114 - accuracy: 1.0000 - val_loss: 3.4298 - val_accuracy: 0.5417\n",
            "Epoch 17/240\n",
            "4/4 [==============================] - 0s 45ms/step - loss: 0.0107 - accuracy: 1.0000 - val_loss: 3.2674 - val_accuracy: 0.5417\n",
            "Epoch 18/240\n",
            "4/4 [==============================] - 0s 43ms/step - loss: 0.0102 - accuracy: 1.0000 - val_loss: 2.9068 - val_accuracy: 0.5417\n",
            "Epoch 19/240\n",
            "4/4 [==============================] - 0s 43ms/step - loss: 0.0098 - accuracy: 1.0000 - val_loss: 2.6281 - val_accuracy: 0.5417\n",
            "Epoch 20/240\n",
            "4/4 [==============================] - 0s 44ms/step - loss: 0.0093 - accuracy: 1.0000 - val_loss: 2.5339 - val_accuracy: 0.5417\n",
            "Epoch 21/240\n",
            "4/4 [==============================] - 0s 45ms/step - loss: 0.0090 - accuracy: 1.0000 - val_loss: 2.5009 - val_accuracy: 0.5417\n",
            "Epoch 22/240\n",
            "4/4 [==============================] - 0s 43ms/step - loss: 0.0087 - accuracy: 1.0000 - val_loss: 2.4274 - val_accuracy: 0.5417\n",
            "Epoch 23/240\n",
            "4/4 [==============================] - 0s 45ms/step - loss: 0.0084 - accuracy: 1.0000 - val_loss: 2.2243 - val_accuracy: 0.5833\n",
            "Epoch 24/240\n",
            "4/4 [==============================] - 0s 56ms/step - loss: 0.0082 - accuracy: 1.0000 - val_loss: 2.1014 - val_accuracy: 0.5833\n",
            "Epoch 25/240\n",
            "4/4 [==============================] - 0s 47ms/step - loss: 0.0079 - accuracy: 1.0000 - val_loss: 2.1608 - val_accuracy: 0.5833\n",
            "Epoch 26/240\n",
            "4/4 [==============================] - 0s 45ms/step - loss: 0.0076 - accuracy: 1.0000 - val_loss: 2.1078 - val_accuracy: 0.5833\n",
            "Epoch 27/240\n",
            "4/4 [==============================] - 0s 44ms/step - loss: 0.0074 - accuracy: 1.0000 - val_loss: 2.0563 - val_accuracy: 0.5833\n",
            "Epoch 28/240\n",
            "4/4 [==============================] - 0s 45ms/step - loss: 0.0072 - accuracy: 1.0000 - val_loss: 1.9047 - val_accuracy: 0.5417\n",
            "Epoch 29/240\n",
            "4/4 [==============================] - 0s 45ms/step - loss: 0.0070 - accuracy: 1.0000 - val_loss: 1.7784 - val_accuracy: 0.5417\n",
            "Epoch 30/240\n",
            "4/4 [==============================] - 0s 43ms/step - loss: 0.0067 - accuracy: 1.0000 - val_loss: 1.7269 - val_accuracy: 0.5833\n",
            "Epoch 31/240\n",
            "4/4 [==============================] - 0s 45ms/step - loss: 0.0066 - accuracy: 1.0000 - val_loss: 1.6992 - val_accuracy: 0.5833\n",
            "Epoch 32/240\n",
            "4/4 [==============================] - 0s 58ms/step - loss: 0.0064 - accuracy: 1.0000 - val_loss: 1.6261 - val_accuracy: 0.5833\n",
            "Epoch 33/240\n",
            "4/4 [==============================] - 0s 45ms/step - loss: 0.0061 - accuracy: 1.0000 - val_loss: 1.5665 - val_accuracy: 0.5833\n",
            "Epoch 34/240\n",
            "4/4 [==============================] - 0s 58ms/step - loss: 0.0060 - accuracy: 1.0000 - val_loss: 1.4651 - val_accuracy: 0.6250\n",
            "Epoch 35/240\n",
            "4/4 [==============================] - 0s 44ms/step - loss: 0.0057 - accuracy: 1.0000 - val_loss: 1.3261 - val_accuracy: 0.6250\n",
            "Epoch 36/240\n",
            "4/4 [==============================] - 0s 45ms/step - loss: 0.0055 - accuracy: 1.0000 - val_loss: 1.3090 - val_accuracy: 0.6250\n",
            "Epoch 37/240\n",
            "4/4 [==============================] - 0s 59ms/step - loss: 0.0052 - accuracy: 1.0000 - val_loss: 1.8209 - val_accuracy: 0.5833\n",
            "Epoch 38/240\n",
            "4/4 [==============================] - 0s 46ms/step - loss: 0.0050 - accuracy: 1.0000 - val_loss: 1.8843 - val_accuracy: 0.5833\n",
            "Epoch 39/240\n",
            "4/4 [==============================] - 0s 45ms/step - loss: 0.0048 - accuracy: 1.0000 - val_loss: 1.5655 - val_accuracy: 0.5833\n",
            "Epoch 40/240\n",
            "4/4 [==============================] - 0s 46ms/step - loss: 0.0046 - accuracy: 1.0000 - val_loss: 1.3428 - val_accuracy: 0.6250\n",
            "Epoch 41/240\n",
            "4/4 [==============================] - 0s 64ms/step - loss: 0.0045 - accuracy: 1.0000 - val_loss: 1.4682 - val_accuracy: 0.6250\n",
            "Epoch 42/240\n",
            "4/4 [==============================] - 0s 56ms/step - loss: 0.0043 - accuracy: 1.0000 - val_loss: 1.2299 - val_accuracy: 0.6250\n",
            "Epoch 43/240\n",
            "4/4 [==============================] - 0s 56ms/step - loss: 0.0042 - accuracy: 1.0000 - val_loss: 1.2916 - val_accuracy: 0.6250\n",
            "Epoch 44/240\n",
            "4/4 [==============================] - 0s 57ms/step - loss: 0.0040 - accuracy: 1.0000 - val_loss: 1.6270 - val_accuracy: 0.6250\n",
            "Epoch 45/240\n",
            "4/4 [==============================] - 0s 45ms/step - loss: 0.0039 - accuracy: 1.0000 - val_loss: 17.3561 - val_accuracy: 0.4583\n",
            "Epoch 46/240\n",
            "4/4 [==============================] - 0s 43ms/step - loss: 0.0043 - accuracy: 1.0000 - val_loss: 7.1349 - val_accuracy: 0.4583\n",
            "Epoch 47/240\n",
            "4/4 [==============================] - 0s 43ms/step - loss: 0.0046 - accuracy: 1.0000 - val_loss: 6.4958 - val_accuracy: 0.4583\n",
            "Epoch 48/240\n",
            "4/4 [==============================] - 0s 43ms/step - loss: 0.0043 - accuracy: 1.0000 - val_loss: 1.7250 - val_accuracy: 0.5000\n",
            "Epoch 49/240\n",
            "4/4 [==============================] - 0s 42ms/step - loss: 0.0039 - accuracy: 1.0000 - val_loss: 0.9540 - val_accuracy: 0.7083\n",
            "Epoch 50/240\n",
            "4/4 [==============================] - 0s 45ms/step - loss: 0.0035 - accuracy: 1.0000 - val_loss: 7.5970 - val_accuracy: 0.4583\n",
            "Epoch 51/240\n",
            "4/4 [==============================] - 0s 60ms/step - loss: 0.0029 - accuracy: 1.0000 - val_loss: 5.5069 - val_accuracy: 0.4583\n",
            "Epoch 52/240\n",
            "4/4 [==============================] - 0s 45ms/step - loss: 0.0026 - accuracy: 1.0000 - val_loss: 4.1600 - val_accuracy: 0.4583\n",
            "Epoch 53/240\n",
            "4/4 [==============================] - 0s 44ms/step - loss: 0.0026 - accuracy: 1.0000 - val_loss: 3.0990 - val_accuracy: 0.4583\n",
            "Epoch 54/240\n",
            "4/4 [==============================] - 0s 45ms/step - loss: 0.0023 - accuracy: 1.0000 - val_loss: 2.1690 - val_accuracy: 0.4583\n",
            "Epoch 55/240\n",
            "4/4 [==============================] - 0s 43ms/step - loss: 0.0025 - accuracy: 1.0000 - val_loss: 1.8891 - val_accuracy: 0.4583\n",
            "Epoch 56/240\n",
            "4/4 [==============================] - 0s 47ms/step - loss: 0.0023 - accuracy: 1.0000 - val_loss: 2.1181 - val_accuracy: 0.4583\n",
            "Epoch 57/240\n",
            "4/4 [==============================] - 0s 58ms/step - loss: 0.0022 - accuracy: 1.0000 - val_loss: 1.6204 - val_accuracy: 0.5417\n",
            "Epoch 58/240\n",
            "4/4 [==============================] - 0s 45ms/step - loss: 0.0020 - accuracy: 1.0000 - val_loss: 1.2710 - val_accuracy: 0.5833\n",
            "Epoch 59/240\n",
            "4/4 [==============================] - 0s 46ms/step - loss: 0.0019 - accuracy: 1.0000 - val_loss: 1.4864 - val_accuracy: 0.5417\n",
            "Epoch 60/240\n",
            "4/4 [==============================] - 0s 57ms/step - loss: 0.0018 - accuracy: 1.0000 - val_loss: 1.5029 - val_accuracy: 0.5417\n",
            "Epoch 61/240\n",
            "4/4 [==============================] - 0s 57ms/step - loss: 0.0017 - accuracy: 1.0000 - val_loss: 1.2011 - val_accuracy: 0.5833\n",
            "Epoch 62/240\n",
            "4/4 [==============================] - 0s 57ms/step - loss: 0.0016 - accuracy: 1.0000 - val_loss: 0.9519 - val_accuracy: 0.7500\n",
            "Epoch 63/240\n",
            "4/4 [==============================] - 0s 46ms/step - loss: 0.0015 - accuracy: 1.0000 - val_loss: 0.9093 - val_accuracy: 0.7500\n",
            "Epoch 64/240\n",
            "4/4 [==============================] - 0s 58ms/step - loss: 0.0015 - accuracy: 1.0000 - val_loss: 0.9304 - val_accuracy: 0.7500\n",
            "Epoch 65/240\n",
            "4/4 [==============================] - 0s 44ms/step - loss: 0.0014 - accuracy: 1.0000 - val_loss: 0.8630 - val_accuracy: 0.8333\n",
            "Epoch 66/240\n",
            "4/4 [==============================] - 0s 44ms/step - loss: 0.0014 - accuracy: 1.0000 - val_loss: 0.7982 - val_accuracy: 0.8333\n",
            "Epoch 67/240\n",
            "4/4 [==============================] - 0s 57ms/step - loss: 0.0014 - accuracy: 1.0000 - val_loss: 0.8003 - val_accuracy: 0.8333\n",
            "Epoch 68/240\n",
            "4/4 [==============================] - 0s 45ms/step - loss: 0.0013 - accuracy: 1.0000 - val_loss: 0.8260 - val_accuracy: 0.8333\n",
            "Epoch 69/240\n",
            "4/4 [==============================] - 0s 57ms/step - loss: 0.0013 - accuracy: 1.0000 - val_loss: 0.8130 - val_accuracy: 0.8333\n",
            "Epoch 70/240\n",
            "4/4 [==============================] - 0s 57ms/step - loss: 0.0013 - accuracy: 1.0000 - val_loss: 0.7955 - val_accuracy: 0.8333\n",
            "Epoch 71/240\n",
            "4/4 [==============================] - 0s 56ms/step - loss: 0.0012 - accuracy: 1.0000 - val_loss: 0.7966 - val_accuracy: 0.8333\n",
            "Epoch 72/240\n",
            "4/4 [==============================] - 0s 45ms/step - loss: 0.0012 - accuracy: 1.0000 - val_loss: 0.7745 - val_accuracy: 0.8333\n",
            "Epoch 73/240\n",
            "4/4 [==============================] - 0s 45ms/step - loss: 0.0012 - accuracy: 1.0000 - val_loss: 0.7452 - val_accuracy: 0.8333\n",
            "Epoch 74/240\n",
            "4/4 [==============================] - 0s 58ms/step - loss: 0.0011 - accuracy: 1.0000 - val_loss: 0.7388 - val_accuracy: 0.8333\n",
            "Epoch 75/240\n",
            "4/4 [==============================] - 0s 46ms/step - loss: 0.0011 - accuracy: 1.0000 - val_loss: 0.7313 - val_accuracy: 0.8333\n",
            "Epoch 76/240\n",
            "4/4 [==============================] - 0s 45ms/step - loss: 0.0011 - accuracy: 1.0000 - val_loss: 0.7175 - val_accuracy: 0.8333\n",
            "Epoch 77/240\n",
            "4/4 [==============================] - 0s 43ms/step - loss: 0.0011 - accuracy: 1.0000 - val_loss: 0.7279 - val_accuracy: 0.8333\n",
            "Epoch 78/240\n",
            "4/4 [==============================] - 0s 44ms/step - loss: 0.0011 - accuracy: 1.0000 - val_loss: 0.7237 - val_accuracy: 0.8333\n",
            "Epoch 79/240\n",
            "4/4 [==============================] - 0s 45ms/step - loss: 0.0010 - accuracy: 1.0000 - val_loss: 0.6950 - val_accuracy: 0.8750\n",
            "Epoch 80/240\n",
            "4/4 [==============================] - 0s 45ms/step - loss: 0.0011 - accuracy: 1.0000 - val_loss: 0.7500 - val_accuracy: 0.8333\n",
            "Epoch 81/240\n",
            "4/4 [==============================] - 0s 58ms/step - loss: 0.0011 - accuracy: 1.0000 - val_loss: 1.0137 - val_accuracy: 0.7500\n",
            "Epoch 82/240\n",
            "4/4 [==============================] - 0s 45ms/step - loss: 0.0011 - accuracy: 1.0000 - val_loss: 0.8420 - val_accuracy: 0.7917\n",
            "Epoch 83/240\n",
            "4/4 [==============================] - 0s 57ms/step - loss: 0.0010 - accuracy: 1.0000 - val_loss: 0.7035 - val_accuracy: 0.8333\n",
            "Epoch 84/240\n",
            "4/4 [==============================] - 0s 45ms/step - loss: 0.0010 - accuracy: 1.0000 - val_loss: 0.7157 - val_accuracy: 0.8333\n",
            "Epoch 85/240\n",
            "4/4 [==============================] - 0s 43ms/step - loss: 9.7850e-04 - accuracy: 1.0000 - val_loss: 0.7474 - val_accuracy: 0.8333\n",
            "Epoch 86/240\n",
            "4/4 [==============================] - 0s 45ms/step - loss: 9.5608e-04 - accuracy: 1.0000 - val_loss: 0.7430 - val_accuracy: 0.8333\n",
            "Epoch 87/240\n",
            "4/4 [==============================] - 0s 45ms/step - loss: 9.3992e-04 - accuracy: 1.0000 - val_loss: 0.7150 - val_accuracy: 0.8333\n",
            "Epoch 88/240\n",
            "4/4 [==============================] - 0s 45ms/step - loss: 9.1841e-04 - accuracy: 1.0000 - val_loss: 0.7196 - val_accuracy: 0.8333\n",
            "Epoch 89/240\n",
            "4/4 [==============================] - 0s 45ms/step - loss: 9.0226e-04 - accuracy: 1.0000 - val_loss: 0.7217 - val_accuracy: 0.8333\n",
            "Epoch 90/240\n",
            "4/4 [==============================] - 0s 45ms/step - loss: 8.8929e-04 - accuracy: 1.0000 - val_loss: 0.7196 - val_accuracy: 0.8750\n",
            "Epoch 91/240\n",
            "4/4 [==============================] - 0s 57ms/step - loss: 8.8458e-04 - accuracy: 1.0000 - val_loss: 0.7145 - val_accuracy: 0.8750\n",
            "Epoch 92/240\n",
            "4/4 [==============================] - 0s 45ms/step - loss: 8.6234e-04 - accuracy: 1.0000 - val_loss: 0.7111 - val_accuracy: 0.8750\n",
            "Epoch 93/240\n",
            "4/4 [==============================] - 0s 45ms/step - loss: 8.4668e-04 - accuracy: 1.0000 - val_loss: 0.7151 - val_accuracy: 0.8750\n",
            "Epoch 94/240\n",
            "4/4 [==============================] - 0s 46ms/step - loss: 8.3943e-04 - accuracy: 1.0000 - val_loss: 0.7144 - val_accuracy: 0.8750\n",
            "Epoch 95/240\n",
            "4/4 [==============================] - 0s 57ms/step - loss: 8.2713e-04 - accuracy: 1.0000 - val_loss: 0.7155 - val_accuracy: 0.8333\n",
            "Epoch 96/240\n",
            "4/4 [==============================] - 0s 45ms/step - loss: 8.1240e-04 - accuracy: 1.0000 - val_loss: 0.7156 - val_accuracy: 0.8750\n",
            "Epoch 97/240\n",
            "4/4 [==============================] - 0s 45ms/step - loss: 8.0454e-04 - accuracy: 1.0000 - val_loss: 0.7149 - val_accuracy: 0.8333\n",
            "Epoch 98/240\n",
            "4/4 [==============================] - 0s 46ms/step - loss: 7.9068e-04 - accuracy: 1.0000 - val_loss: 0.7268 - val_accuracy: 0.8333\n",
            "Epoch 99/240\n",
            "4/4 [==============================] - 0s 45ms/step - loss: 7.8337e-04 - accuracy: 1.0000 - val_loss: 0.7255 - val_accuracy: 0.8333\n",
            "Epoch 100/240\n",
            "4/4 [==============================] - 0s 46ms/step - loss: 7.7271e-04 - accuracy: 1.0000 - val_loss: 0.7281 - val_accuracy: 0.8333\n",
            "Epoch 101/240\n",
            "4/4 [==============================] - 0s 46ms/step - loss: 7.6049e-04 - accuracy: 1.0000 - val_loss: 0.7321 - val_accuracy: 0.8333\n",
            "Epoch 102/240\n",
            "4/4 [==============================] - 0s 45ms/step - loss: 7.5026e-04 - accuracy: 1.0000 - val_loss: 0.7332 - val_accuracy: 0.8333\n",
            "Epoch 103/240\n",
            "4/4 [==============================] - 0s 47ms/step - loss: 7.4107e-04 - accuracy: 1.0000 - val_loss: 0.7331 - val_accuracy: 0.8333\n",
            "Epoch 104/240\n",
            "4/4 [==============================] - 0s 45ms/step - loss: 7.3427e-04 - accuracy: 1.0000 - val_loss: 0.7430 - val_accuracy: 0.8333\n",
            "Epoch 105/240\n",
            "4/4 [==============================] - 0s 59ms/step - loss: 7.2491e-04 - accuracy: 1.0000 - val_loss: 0.7497 - val_accuracy: 0.8333\n",
            "Epoch 106/240\n",
            "4/4 [==============================] - 0s 57ms/step - loss: 7.1458e-04 - accuracy: 1.0000 - val_loss: 0.7494 - val_accuracy: 0.8333\n",
            "Epoch 107/240\n",
            "4/4 [==============================] - 0s 57ms/step - loss: 7.0594e-04 - accuracy: 1.0000 - val_loss: 0.7587 - val_accuracy: 0.8333\n",
            "Epoch 108/240\n",
            "4/4 [==============================] - 0s 47ms/step - loss: 6.9631e-04 - accuracy: 1.0000 - val_loss: 0.7605 - val_accuracy: 0.8333\n",
            "Epoch 109/240\n",
            "4/4 [==============================] - 0s 45ms/step - loss: 6.8687e-04 - accuracy: 1.0000 - val_loss: 0.7669 - val_accuracy: 0.8333\n",
            "Epoch 110/240\n",
            "4/4 [==============================] - 0s 45ms/step - loss: 6.7658e-04 - accuracy: 1.0000 - val_loss: 0.7699 - val_accuracy: 0.8333\n",
            "Epoch 111/240\n",
            "4/4 [==============================] - 0s 46ms/step - loss: 6.6885e-04 - accuracy: 1.0000 - val_loss: 0.7777 - val_accuracy: 0.7917\n",
            "Epoch 112/240\n",
            "4/4 [==============================] - 0s 46ms/step - loss: 6.5937e-04 - accuracy: 1.0000 - val_loss: 0.7787 - val_accuracy: 0.7917\n",
            "Epoch 113/240\n",
            "4/4 [==============================] - 0s 46ms/step - loss: 6.5031e-04 - accuracy: 1.0000 - val_loss: 0.7860 - val_accuracy: 0.7917\n",
            "Epoch 114/240\n",
            "4/4 [==============================] - 0s 45ms/step - loss: 6.4239e-04 - accuracy: 1.0000 - val_loss: 0.7949 - val_accuracy: 0.7917\n",
            "Epoch 115/240\n",
            "4/4 [==============================] - 0s 60ms/step - loss: 6.3608e-04 - accuracy: 1.0000 - val_loss: 0.7970 - val_accuracy: 0.7917\n",
            "Epoch 116/240\n",
            "4/4 [==============================] - 0s 45ms/step - loss: 6.2807e-04 - accuracy: 1.0000 - val_loss: 0.7936 - val_accuracy: 0.7917\n",
            "Epoch 117/240\n",
            "4/4 [==============================] - 0s 46ms/step - loss: 6.2096e-04 - accuracy: 1.0000 - val_loss: 0.8209 - val_accuracy: 0.7917\n",
            "Epoch 118/240\n",
            "4/4 [==============================] - 0s 48ms/step - loss: 6.1756e-04 - accuracy: 1.0000 - val_loss: 0.7961 - val_accuracy: 0.7917\n",
            "Epoch 119/240\n",
            "4/4 [==============================] - 0s 45ms/step - loss: 6.1116e-04 - accuracy: 1.0000 - val_loss: 0.8448 - val_accuracy: 0.7917\n",
            "Epoch 120/240\n",
            "4/4 [==============================] - 0s 45ms/step - loss: 6.0684e-04 - accuracy: 1.0000 - val_loss: 0.7881 - val_accuracy: 0.8333\n",
            "Epoch 121/240\n",
            "4/4 [==============================] - 0s 46ms/step - loss: 6.2090e-04 - accuracy: 1.0000 - val_loss: 0.8166 - val_accuracy: 0.7917\n",
            "Epoch 122/240\n",
            "4/4 [==============================] - 0s 46ms/step - loss: 5.9276e-04 - accuracy: 1.0000 - val_loss: 1.0095 - val_accuracy: 0.7083\n",
            "Epoch 123/240\n",
            "4/4 [==============================] - 0s 46ms/step - loss: 6.7430e-04 - accuracy: 1.0000 - val_loss: 1.1581 - val_accuracy: 0.7500\n",
            "Epoch 124/240\n",
            "4/4 [==============================] - 0s 46ms/step - loss: 0.0010 - accuracy: 1.0000 - val_loss: 0.8806 - val_accuracy: 0.8333\n",
            "Epoch 125/240\n",
            "4/4 [==============================] - 0s 46ms/step - loss: 7.6265e-04 - accuracy: 1.0000 - val_loss: 2.0347 - val_accuracy: 0.6250\n",
            "Epoch 126/240\n",
            "4/4 [==============================] - 0s 45ms/step - loss: 0.0015 - accuracy: 1.0000 - val_loss: 2.7394 - val_accuracy: 0.4583\n",
            "Epoch 127/240\n",
            "4/4 [==============================] - 0s 45ms/step - loss: 0.0039 - accuracy: 1.0000 - val_loss: 1.1803 - val_accuracy: 0.7500\n",
            "Epoch 128/240\n",
            "4/4 [==============================] - 0s 58ms/step - loss: 0.0079 - accuracy: 1.0000 - val_loss: 0.8526 - val_accuracy: 0.7083\n",
            "Epoch 129/240\n",
            "4/4 [==============================] - 0s 58ms/step - loss: 0.1643 - accuracy: 0.9588 - val_loss: 10.6088 - val_accuracy: 0.5417\n",
            "Epoch 130/240\n",
            "4/4 [==============================] - 0s 44ms/step - loss: 0.5245 - accuracy: 0.8969 - val_loss: 16.6034 - val_accuracy: 0.5417\n",
            "Epoch 131/240\n",
            "4/4 [==============================] - 0s 47ms/step - loss: 0.6580 - accuracy: 0.7938 - val_loss: 17.4364 - val_accuracy: 0.5417\n",
            "Epoch 132/240\n",
            "4/4 [==============================] - 0s 46ms/step - loss: 0.2533 - accuracy: 0.8866 - val_loss: 10.3967 - val_accuracy: 0.5417\n",
            "Epoch 133/240\n",
            "4/4 [==============================] - 0s 58ms/step - loss: 0.3818 - accuracy: 0.8866 - val_loss: 6.9054 - val_accuracy: 0.5417\n",
            "Epoch 134/240\n",
            "4/4 [==============================] - 0s 45ms/step - loss: 0.1516 - accuracy: 0.9381 - val_loss: 10.8170 - val_accuracy: 0.5417\n",
            "Epoch 135/240\n",
            "4/4 [==============================] - 0s 57ms/step - loss: 0.0891 - accuracy: 0.9691 - val_loss: 5.8126 - val_accuracy: 0.5417\n",
            "Epoch 136/240\n",
            "4/4 [==============================] - 0s 46ms/step - loss: 0.0256 - accuracy: 1.0000 - val_loss: 5.6331 - val_accuracy: 0.5417\n",
            "Epoch 137/240\n",
            "4/4 [==============================] - 0s 47ms/step - loss: 0.0185 - accuracy: 1.0000 - val_loss: 5.8414 - val_accuracy: 0.5000\n",
            "Epoch 138/240\n",
            "4/4 [==============================] - 0s 46ms/step - loss: 0.0084 - accuracy: 1.0000 - val_loss: 2.9953 - val_accuracy: 0.5833\n",
            "Epoch 139/240\n",
            "4/4 [==============================] - 0s 46ms/step - loss: 0.0059 - accuracy: 1.0000 - val_loss: 1.5479 - val_accuracy: 0.7917\n",
            "Epoch 140/240\n",
            "4/4 [==============================] - 0s 45ms/step - loss: 0.0052 - accuracy: 1.0000 - val_loss: 1.4152 - val_accuracy: 0.7917\n",
            "Epoch 141/240\n",
            "4/4 [==============================] - 0s 59ms/step - loss: 0.0039 - accuracy: 1.0000 - val_loss: 1.3969 - val_accuracy: 0.7917\n",
            "Epoch 142/240\n",
            "4/4 [==============================] - 0s 46ms/step - loss: 0.0034 - accuracy: 1.0000 - val_loss: 1.3938 - val_accuracy: 0.7917\n",
            "Epoch 143/240\n",
            "4/4 [==============================] - 0s 58ms/step - loss: 0.0029 - accuracy: 1.0000 - val_loss: 1.3449 - val_accuracy: 0.7917\n",
            "Epoch 144/240\n",
            "4/4 [==============================] - 0s 45ms/step - loss: 0.0026 - accuracy: 1.0000 - val_loss: 1.3286 - val_accuracy: 0.7917\n",
            "Epoch 145/240\n",
            "4/4 [==============================] - 0s 44ms/step - loss: 0.0023 - accuracy: 1.0000 - val_loss: 1.2976 - val_accuracy: 0.7917\n",
            "Epoch 146/240\n",
            "4/4 [==============================] - 0s 47ms/step - loss: 0.0021 - accuracy: 1.0000 - val_loss: 1.3280 - val_accuracy: 0.7917\n",
            "Epoch 147/240\n",
            "4/4 [==============================] - 0s 60ms/step - loss: 0.0020 - accuracy: 1.0000 - val_loss: 1.3683 - val_accuracy: 0.7917\n",
            "Epoch 148/240\n",
            "4/4 [==============================] - 0s 46ms/step - loss: 0.0018 - accuracy: 1.0000 - val_loss: 1.4036 - val_accuracy: 0.7917\n",
            "Epoch 149/240\n",
            "4/4 [==============================] - 0s 46ms/step - loss: 0.0017 - accuracy: 1.0000 - val_loss: 1.4275 - val_accuracy: 0.7917\n",
            "Epoch 150/240\n",
            "4/4 [==============================] - 0s 45ms/step - loss: 0.0016 - accuracy: 1.0000 - val_loss: 1.4662 - val_accuracy: 0.7083\n",
            "Epoch 151/240\n",
            "4/4 [==============================] - 0s 46ms/step - loss: 0.0016 - accuracy: 1.0000 - val_loss: 1.4557 - val_accuracy: 0.6667\n",
            "Epoch 152/240\n",
            "4/4 [==============================] - 0s 45ms/step - loss: 0.0015 - accuracy: 1.0000 - val_loss: 1.4147 - val_accuracy: 0.7917\n",
            "Epoch 153/240\n",
            "4/4 [==============================] - 0s 46ms/step - loss: 0.0014 - accuracy: 1.0000 - val_loss: 1.3290 - val_accuracy: 0.7917\n",
            "Epoch 154/240\n",
            "4/4 [==============================] - 0s 45ms/step - loss: 0.0013 - accuracy: 1.0000 - val_loss: 1.2702 - val_accuracy: 0.7917\n",
            "Epoch 155/240\n",
            "4/4 [==============================] - 0s 46ms/step - loss: 0.0013 - accuracy: 1.0000 - val_loss: 1.2379 - val_accuracy: 0.7917\n",
            "Epoch 156/240\n",
            "4/4 [==============================] - 0s 59ms/step - loss: 0.0012 - accuracy: 1.0000 - val_loss: 1.2224 - val_accuracy: 0.7917\n",
            "Epoch 157/240\n",
            "4/4 [==============================] - 0s 45ms/step - loss: 0.0012 - accuracy: 1.0000 - val_loss: 1.2122 - val_accuracy: 0.7917\n",
            "Epoch 158/240\n",
            "4/4 [==============================] - 0s 46ms/step - loss: 0.0011 - accuracy: 1.0000 - val_loss: 1.1943 - val_accuracy: 0.7917\n",
            "Epoch 159/240\n",
            "4/4 [==============================] - 0s 45ms/step - loss: 0.0011 - accuracy: 1.0000 - val_loss: 1.1845 - val_accuracy: 0.7917\n",
            "Epoch 160/240\n",
            "4/4 [==============================] - 0s 46ms/step - loss: 0.0010 - accuracy: 1.0000 - val_loss: 1.1618 - val_accuracy: 0.7917\n",
            "Epoch 161/240\n",
            "4/4 [==============================] - 0s 60ms/step - loss: 9.9033e-04 - accuracy: 1.0000 - val_loss: 1.1418 - val_accuracy: 0.7917\n",
            "Epoch 162/240\n",
            "4/4 [==============================] - 0s 46ms/step - loss: 9.5394e-04 - accuracy: 1.0000 - val_loss: 1.1219 - val_accuracy: 0.7917\n",
            "Epoch 163/240\n",
            "4/4 [==============================] - 0s 45ms/step - loss: 9.1717e-04 - accuracy: 1.0000 - val_loss: 1.1149 - val_accuracy: 0.7917\n",
            "Epoch 164/240\n",
            "4/4 [==============================] - 0s 46ms/step - loss: 8.8858e-04 - accuracy: 1.0000 - val_loss: 1.1221 - val_accuracy: 0.7917\n",
            "Epoch 165/240\n",
            "4/4 [==============================] - 0s 47ms/step - loss: 8.5976e-04 - accuracy: 1.0000 - val_loss: 1.1307 - val_accuracy: 0.7917\n",
            "Epoch 166/240\n",
            "4/4 [==============================] - 0s 45ms/step - loss: 8.3697e-04 - accuracy: 1.0000 - val_loss: 1.1243 - val_accuracy: 0.7917\n",
            "Epoch 167/240\n",
            "4/4 [==============================] - 0s 46ms/step - loss: 8.1100e-04 - accuracy: 1.0000 - val_loss: 1.1149 - val_accuracy: 0.7917\n",
            "Epoch 168/240\n",
            "4/4 [==============================] - 0s 58ms/step - loss: 7.9408e-04 - accuracy: 1.0000 - val_loss: 1.1028 - val_accuracy: 0.7917\n",
            "Epoch 169/240\n",
            "4/4 [==============================] - 0s 48ms/step - loss: 7.6654e-04 - accuracy: 1.0000 - val_loss: 1.0974 - val_accuracy: 0.7917\n",
            "Epoch 170/240\n",
            "4/4 [==============================] - 0s 58ms/step - loss: 7.5106e-04 - accuracy: 1.0000 - val_loss: 1.0998 - val_accuracy: 0.7917\n",
            "Epoch 171/240\n",
            "4/4 [==============================] - 0s 60ms/step - loss: 7.3370e-04 - accuracy: 1.0000 - val_loss: 1.1149 - val_accuracy: 0.7917\n",
            "Epoch 172/240\n",
            "4/4 [==============================] - 0s 46ms/step - loss: 7.1595e-04 - accuracy: 1.0000 - val_loss: 1.1121 - val_accuracy: 0.7917\n",
            "Epoch 173/240\n",
            "4/4 [==============================] - 0s 46ms/step - loss: 7.0074e-04 - accuracy: 1.0000 - val_loss: 1.1106 - val_accuracy: 0.7917\n",
            "Epoch 174/240\n",
            "4/4 [==============================] - 0s 46ms/step - loss: 6.8744e-04 - accuracy: 1.0000 - val_loss: 1.1235 - val_accuracy: 0.7917\n",
            "Epoch 175/240\n",
            "4/4 [==============================] - 0s 47ms/step - loss: 6.6609e-04 - accuracy: 1.0000 - val_loss: 1.1229 - val_accuracy: 0.7917\n",
            "Epoch 176/240\n",
            "4/4 [==============================] - 0s 46ms/step - loss: 6.5615e-04 - accuracy: 1.0000 - val_loss: 1.1187 - val_accuracy: 0.7917\n",
            "Epoch 177/240\n",
            "4/4 [==============================] - 0s 46ms/step - loss: 6.4485e-04 - accuracy: 1.0000 - val_loss: 1.1107 - val_accuracy: 0.7917\n",
            "Epoch 178/240\n",
            "4/4 [==============================] - 0s 45ms/step - loss: 6.3674e-04 - accuracy: 1.0000 - val_loss: 1.1190 - val_accuracy: 0.7917\n",
            "Epoch 179/240\n",
            "4/4 [==============================] - 0s 45ms/step - loss: 6.2381e-04 - accuracy: 1.0000 - val_loss: 1.1129 - val_accuracy: 0.7917\n",
            "Epoch 180/240\n",
            "4/4 [==============================] - 0s 46ms/step - loss: 6.1467e-04 - accuracy: 1.0000 - val_loss: 1.1168 - val_accuracy: 0.7917\n",
            "Epoch 181/240\n",
            "4/4 [==============================] - 0s 45ms/step - loss: 6.0347e-04 - accuracy: 1.0000 - val_loss: 1.1098 - val_accuracy: 0.7917\n",
            "Epoch 182/240\n",
            "4/4 [==============================] - 0s 60ms/step - loss: 5.9668e-04 - accuracy: 1.0000 - val_loss: 1.1090 - val_accuracy: 0.7917\n",
            "Epoch 183/240\n",
            "4/4 [==============================] - 0s 47ms/step - loss: 5.8553e-04 - accuracy: 1.0000 - val_loss: 1.1207 - val_accuracy: 0.7917\n",
            "Epoch 184/240\n",
            "4/4 [==============================] - 0s 46ms/step - loss: 5.7609e-04 - accuracy: 1.0000 - val_loss: 1.1262 - val_accuracy: 0.7917\n",
            "Epoch 185/240\n",
            "4/4 [==============================] - 0s 47ms/step - loss: 5.6876e-04 - accuracy: 1.0000 - val_loss: 1.1174 - val_accuracy: 0.7917\n",
            "Epoch 186/240\n",
            "4/4 [==============================] - 0s 46ms/step - loss: 5.6225e-04 - accuracy: 1.0000 - val_loss: 1.1301 - val_accuracy: 0.7917\n",
            "Epoch 187/240\n",
            "4/4 [==============================] - 0s 46ms/step - loss: 5.5502e-04 - accuracy: 1.0000 - val_loss: 1.1297 - val_accuracy: 0.7917\n",
            "Epoch 188/240\n",
            "4/4 [==============================] - 0s 61ms/step - loss: 5.4992e-04 - accuracy: 1.0000 - val_loss: 1.1269 - val_accuracy: 0.7917\n",
            "Epoch 189/240\n",
            "4/4 [==============================] - 0s 47ms/step - loss: 5.3963e-04 - accuracy: 1.0000 - val_loss: 1.1336 - val_accuracy: 0.7917\n",
            "Epoch 190/240\n",
            "4/4 [==============================] - 0s 45ms/step - loss: 5.3454e-04 - accuracy: 1.0000 - val_loss: 1.1397 - val_accuracy: 0.7917\n",
            "Epoch 191/240\n",
            "4/4 [==============================] - 0s 46ms/step - loss: 5.2778e-04 - accuracy: 1.0000 - val_loss: 1.1348 - val_accuracy: 0.7917\n",
            "Epoch 192/240\n",
            "4/4 [==============================] - 0s 44ms/step - loss: 5.2273e-04 - accuracy: 1.0000 - val_loss: 1.1414 - val_accuracy: 0.7917\n",
            "Epoch 193/240\n",
            "4/4 [==============================] - 0s 55ms/step - loss: 5.1824e-04 - accuracy: 1.0000 - val_loss: 1.1430 - val_accuracy: 0.7917\n",
            "Epoch 194/240\n",
            "4/4 [==============================] - 0s 45ms/step - loss: 5.1256e-04 - accuracy: 1.0000 - val_loss: 1.1387 - val_accuracy: 0.7917\n",
            "Epoch 195/240\n",
            "4/4 [==============================] - 0s 46ms/step - loss: 5.0730e-04 - accuracy: 1.0000 - val_loss: 1.1434 - val_accuracy: 0.7917\n",
            "Epoch 196/240\n",
            "4/4 [==============================] - 0s 44ms/step - loss: 5.0287e-04 - accuracy: 1.0000 - val_loss: 1.1563 - val_accuracy: 0.7917\n",
            "Epoch 197/240\n",
            "4/4 [==============================] - 0s 46ms/step - loss: 4.9795e-04 - accuracy: 1.0000 - val_loss: 1.1543 - val_accuracy: 0.7917\n",
            "Epoch 198/240\n",
            "4/4 [==============================] - 0s 46ms/step - loss: 4.9349e-04 - accuracy: 1.0000 - val_loss: 1.1624 - val_accuracy: 0.7917\n",
            "Epoch 199/240\n",
            "4/4 [==============================] - 0s 43ms/step - loss: 4.8701e-04 - accuracy: 1.0000 - val_loss: 1.1668 - val_accuracy: 0.7917\n",
            "Epoch 200/240\n",
            "4/4 [==============================] - 0s 47ms/step - loss: 4.8178e-04 - accuracy: 1.0000 - val_loss: 1.1587 - val_accuracy: 0.7917\n",
            "Epoch 201/240\n",
            "4/4 [==============================] - 0s 45ms/step - loss: 4.7754e-04 - accuracy: 1.0000 - val_loss: 1.1631 - val_accuracy: 0.7917\n",
            "Epoch 202/240\n",
            "4/4 [==============================] - 0s 45ms/step - loss: 4.7318e-04 - accuracy: 1.0000 - val_loss: 1.1755 - val_accuracy: 0.7917\n",
            "Epoch 203/240\n",
            "4/4 [==============================] - 0s 45ms/step - loss: 4.6958e-04 - accuracy: 1.0000 - val_loss: 1.1693 - val_accuracy: 0.7917\n",
            "Epoch 204/240\n",
            "4/4 [==============================] - 0s 46ms/step - loss: 4.6564e-04 - accuracy: 1.0000 - val_loss: 1.1703 - val_accuracy: 0.7917\n",
            "Epoch 205/240\n",
            "4/4 [==============================] - 0s 45ms/step - loss: 4.6149e-04 - accuracy: 1.0000 - val_loss: 1.1760 - val_accuracy: 0.7917\n",
            "Epoch 206/240\n",
            "4/4 [==============================] - 0s 43ms/step - loss: 4.5723e-04 - accuracy: 1.0000 - val_loss: 1.1827 - val_accuracy: 0.7917\n",
            "Epoch 207/240\n",
            "4/4 [==============================] - 0s 46ms/step - loss: 4.5276e-04 - accuracy: 1.0000 - val_loss: 1.1932 - val_accuracy: 0.7917\n",
            "Epoch 208/240\n",
            "4/4 [==============================] - 0s 46ms/step - loss: 4.4702e-04 - accuracy: 1.0000 - val_loss: 1.1883 - val_accuracy: 0.7917\n",
            "Epoch 209/240\n",
            "4/4 [==============================] - 0s 43ms/step - loss: 4.4331e-04 - accuracy: 1.0000 - val_loss: 1.1943 - val_accuracy: 0.7917\n",
            "Epoch 210/240\n",
            "4/4 [==============================] - 0s 45ms/step - loss: 4.3813e-04 - accuracy: 1.0000 - val_loss: 1.1967 - val_accuracy: 0.7917\n",
            "Epoch 211/240\n",
            "4/4 [==============================] - 0s 57ms/step - loss: 4.3614e-04 - accuracy: 1.0000 - val_loss: 1.2028 - val_accuracy: 0.7917\n",
            "Epoch 212/240\n",
            "4/4 [==============================] - 0s 45ms/step - loss: 4.3263e-04 - accuracy: 1.0000 - val_loss: 1.1969 - val_accuracy: 0.7917\n",
            "Epoch 213/240\n",
            "4/4 [==============================] - 0s 43ms/step - loss: 4.2962e-04 - accuracy: 1.0000 - val_loss: 1.2017 - val_accuracy: 0.7917\n",
            "Epoch 214/240\n",
            "4/4 [==============================] - 0s 43ms/step - loss: 4.2654e-04 - accuracy: 1.0000 - val_loss: 1.2054 - val_accuracy: 0.7917\n",
            "Epoch 215/240\n",
            "4/4 [==============================] - 0s 42ms/step - loss: 4.2350e-04 - accuracy: 1.0000 - val_loss: 1.2133 - val_accuracy: 0.7917\n",
            "Epoch 216/240\n",
            "4/4 [==============================] - 0s 46ms/step - loss: 4.1889e-04 - accuracy: 1.0000 - val_loss: 1.2020 - val_accuracy: 0.7917\n",
            "Epoch 217/240\n",
            "4/4 [==============================] - 0s 45ms/step - loss: 4.1463e-04 - accuracy: 1.0000 - val_loss: 1.2064 - val_accuracy: 0.7917\n",
            "Epoch 218/240\n",
            "4/4 [==============================] - 0s 45ms/step - loss: 4.1107e-04 - accuracy: 1.0000 - val_loss: 1.2213 - val_accuracy: 0.7917\n",
            "Epoch 219/240\n",
            "4/4 [==============================] - 0s 59ms/step - loss: 4.0870e-04 - accuracy: 1.0000 - val_loss: 1.2214 - val_accuracy: 0.7917\n",
            "Epoch 220/240\n",
            "4/4 [==============================] - 0s 57ms/step - loss: 4.0595e-04 - accuracy: 1.0000 - val_loss: 1.2260 - val_accuracy: 0.7917\n",
            "Epoch 221/240\n",
            "4/4 [==============================] - 0s 45ms/step - loss: 4.0262e-04 - accuracy: 1.0000 - val_loss: 1.2322 - val_accuracy: 0.7917\n",
            "Epoch 222/240\n",
            "4/4 [==============================] - 0s 57ms/step - loss: 4.0042e-04 - accuracy: 1.0000 - val_loss: 1.2279 - val_accuracy: 0.7917\n",
            "Epoch 223/240\n",
            "4/4 [==============================] - 0s 46ms/step - loss: 3.9698e-04 - accuracy: 1.0000 - val_loss: 1.2318 - val_accuracy: 0.7917\n",
            "Epoch 224/240\n",
            "4/4 [==============================] - 0s 46ms/step - loss: 3.9348e-04 - accuracy: 1.0000 - val_loss: 1.2266 - val_accuracy: 0.7917\n",
            "Epoch 225/240\n",
            "4/4 [==============================] - 0s 56ms/step - loss: 3.9100e-04 - accuracy: 1.0000 - val_loss: 1.2309 - val_accuracy: 0.7917\n",
            "Epoch 226/240\n",
            "4/4 [==============================] - 0s 45ms/step - loss: 3.8805e-04 - accuracy: 1.0000 - val_loss: 1.2435 - val_accuracy: 0.7917\n",
            "Epoch 227/240\n",
            "4/4 [==============================] - 0s 44ms/step - loss: 3.8531e-04 - accuracy: 1.0000 - val_loss: 1.2501 - val_accuracy: 0.7917\n",
            "Epoch 228/240\n",
            "4/4 [==============================] - 0s 47ms/step - loss: 3.8269e-04 - accuracy: 1.0000 - val_loss: 1.2436 - val_accuracy: 0.7917\n",
            "Epoch 229/240\n",
            "4/4 [==============================] - 0s 55ms/step - loss: 3.8097e-04 - accuracy: 1.0000 - val_loss: 1.2410 - val_accuracy: 0.7917\n",
            "Epoch 230/240\n",
            "4/4 [==============================] - 0s 57ms/step - loss: 3.7851e-04 - accuracy: 1.0000 - val_loss: 1.2472 - val_accuracy: 0.7917\n",
            "Epoch 231/240\n",
            "4/4 [==============================] - 0s 47ms/step - loss: 3.7641e-04 - accuracy: 1.0000 - val_loss: 1.2486 - val_accuracy: 0.7917\n",
            "Epoch 232/240\n",
            "4/4 [==============================] - 0s 43ms/step - loss: 3.7376e-04 - accuracy: 1.0000 - val_loss: 1.2567 - val_accuracy: 0.7917\n",
            "Epoch 233/240\n",
            "4/4 [==============================] - 0s 46ms/step - loss: 3.7164e-04 - accuracy: 1.0000 - val_loss: 1.2544 - val_accuracy: 0.7917\n",
            "Epoch 234/240\n",
            "4/4 [==============================] - 0s 46ms/step - loss: 3.6843e-04 - accuracy: 1.0000 - val_loss: 1.2603 - val_accuracy: 0.7500\n",
            "Epoch 235/240\n",
            "4/4 [==============================] - 0s 44ms/step - loss: 3.6544e-04 - accuracy: 1.0000 - val_loss: 1.2629 - val_accuracy: 0.7500\n",
            "Epoch 236/240\n",
            "4/4 [==============================] - 0s 43ms/step - loss: 3.6295e-04 - accuracy: 1.0000 - val_loss: 1.2636 - val_accuracy: 0.7917\n",
            "Epoch 237/240\n",
            "4/4 [==============================] - 0s 46ms/step - loss: 3.6082e-04 - accuracy: 1.0000 - val_loss: 1.2663 - val_accuracy: 0.7500\n",
            "Epoch 238/240\n",
            "4/4 [==============================] - 0s 58ms/step - loss: 3.5892e-04 - accuracy: 1.0000 - val_loss: 1.2688 - val_accuracy: 0.7500\n",
            "Epoch 239/240\n",
            "4/4 [==============================] - 0s 45ms/step - loss: 3.5667e-04 - accuracy: 1.0000 - val_loss: 1.2716 - val_accuracy: 0.7500\n",
            "Epoch 240/240\n",
            "4/4 [==============================] - 0s 45ms/step - loss: 3.5436e-04 - accuracy: 1.0000 - val_loss: 1.2781 - val_accuracy: 0.7500\n"
          ]
        }
      ]
    },
    {
      "cell_type": "code",
      "execution_count": null,
      "metadata": {
        "id": "Hrf92_BhT3kA",
        "colab": {
          "base_uri": "https://localhost:8080/",
          "height": 328
        },
        "outputId": "bea199bc-ec56-4a4d-ce98-46c04015d512"
      },
      "outputs": [
        {
          "output_type": "execute_result",
          "data": {
            "text/plain": [
              "Text(0.5, 1.0, 'Training-Validation Accuracy')"
            ]
          },
          "metadata": {},
          "execution_count": 207
        },
        {
          "output_type": "display_data",
          "data": {
            "text/plain": [
              "<Figure size 720x720 with 2 Axes>"
            ],
            "image/png": "[encoded data removed]"
          },
          "metadata": {
            "needs_background": "light"
          }
        }
      ],
      "source": [
        "loss = pd.DataFrame(model.history.history)\n",
        "\n",
        "#plotting the loss and accuracy\n",
        "plt.figure(figsize=(10,10))\n",
        "\n",
        "plt.subplot(2,2,1)\n",
        "plt.plot(loss[\"loss\"], label =\"Loss\")\n",
        "plt.plot(loss[\"val_loss\"], label = \"Validation_loss\")\n",
        "plt.legend()\n",
        "plt.title(\"Training and Validation Loss\")\n",
        "\n",
        "plt.subplot(2,2,2)\n",
        "plt.plot(loss['accuracy'],label = \"Training Accuracy\")\n",
        "plt.plot(loss['val_accuracy'], label =\"Validation_ Accuracy \")\n",
        "plt.legend()\n",
        "plt.title(\"Training-Validation Accuracy\")"
      ]
    },
    {
      "cell_type": "code",
      "source": [
        "plt.plot(history.history['accuracy'], label='accuracy')\n",
        "plt.plot(history.history['val_accuracy'], label = 'val_accuracy')\n",
        "plt.xlabel('Epoch')\n",
        "plt.ylabel('Accuracy')\n",
        "plt.ylim([0.5, 1])\n",
        "plt.legend(loc='lower right')\n",
        "\n",
        "test_loss, test_acc = model.evaluate(val_dataset, verbose=2)"
      ],
      "metadata": {
        "id": "YO1QOfHx41H9",
        "outputId": "36e7d796-cc30-48c0-b182-7e1ae14185c0",
        "colab": {
          "base_uri": "https://localhost:8080/",
          "height": 300
        }
      },
      "execution_count": null,
      "outputs": [
        {
          "output_type": "stream",
          "name": "stdout",
          "text": [
            "1/1 - 0s - loss: 1.2781 - accuracy: 0.7500 - 20ms/epoch - 20ms/step\n"
          ]
        },
        {
          "output_type": "display_data",
          "data": {
            "text/plain": [
              "<Figure size 432x288 with 1 Axes>"
            ],
            "image/png": "[encoded data removed]"
          },
          "metadata": {
            "needs_background": "light"
          }
        }
      ]
    },
    {
      "cell_type": "code",
      "source": [
        "\n",
        "print(test_acc)"
      ],
      "metadata": {
        "colab": {
          "base_uri": "https://localhost:8080/"
        },
        "id": "98lwm4Ny5zR8",
        "outputId": "a643397c-5dd8-4b9a-df8e-55859d8c9a48"
      },
      "execution_count": null,
      "outputs": [
        {
          "output_type": "stream",
          "name": "stdout",
          "text": [
            "0.75\n"
          ]
        }
      ]
    },
    {
      "cell_type": "code",
      "source": [
        "dsfdsf"
      ],
      "metadata": {
        "colab": {
          "base_uri": "https://localhost:8080/",
          "height": 166
        },
        "id": "TpYSMMTAA54m",
        "outputId": "cd4a025f-9be1-4d80-af8e-cc59c4bd1795"
      },
      "execution_count": null,
      "outputs": [
        {
          "output_type": "error",
          "ename": "NameError",
          "evalue": "ignored",
          "traceback": [
            "\u001b[0;31m---------------------------------------------------------------------------\u001b[0m",
            "\u001b[0;31mNameError\u001b[0m                                 Traceback (most recent call last)",
            "\u001b[0;32m<ipython-input-210-61c769679a3a>\u001b[0m in \u001b[0;36m<module>\u001b[0;34m\u001b[0m\n\u001b[0;32m----> 1\u001b[0;31m \u001b[0mdsfdsf\u001b[0m\u001b[0;34m\u001b[0m\u001b[0;34m\u001b[0m\u001b[0m\n\u001b[0m",
            "\u001b[0;31mNameError\u001b[0m: name 'dsfdsf' is not defined"
          ]
        }
      ]
    },
    {
      "cell_type": "markdown",
      "metadata": {
        "id": "clvuQsz0Gi2v"
      },
      "source": [
        "#streamlit"
      ]
    },
    {
      "cell_type": "code",
      "execution_count": null,
      "metadata": {
        "id": "Mrw27bflVVnJ"
      },
      "outputs": [],
      "source": [
        "! pip install -q streamlit"
      ]
    },
    {
      "cell_type": "code",
      "execution_count": null,
      "metadata": {
        "id": "s57uIlFPV-qs"
      },
      "outputs": [],
      "source": [
        "!mkdir -p /drive/ngrok-ssh\n",
        "%cd /drive/ngrok-ssh\n",
        "!wget https://bin.equinox.io/c/4VmDzA7iaHb/ngrok-stable-linux-amd64.zip -O ngrok-stable-linux-amd64.zip\n",
        "!unzip -u ngrok-stable-linux-amd64.zip\n",
        "!cp /drive/ngrok-ssh/ngrok /ngrok\n",
        "!chmod +x /ngrok"
      ]
    },
    {
      "cell_type": "code",
      "execution_count": null,
      "metadata": {
        "id": "E9jjH-EFVrdL"
      },
      "outputs": [],
      "source": [
        "!/ngrok authtoken 2Fud0KVvq9S56Na5IbL6NRnHZtZ_6KvuGdz8px9MHULrMeHWf"
      ]
    },
    {
      "cell_type": "code",
      "execution_count": null,
      "metadata": {
        "id": "6ohr_rZFWJ68"
      },
      "outputs": [],
      "source": [
        "!pip install pyngrok"
      ]
    },
    {
      "cell_type": "code",
      "execution_count": null,
      "metadata": {
        "id": "lIeSMpmrYALj"
      },
      "outputs": [],
      "source": [
        "from pyngrok import ngrok\n",
        "#Publish Web App (Run this again whenever you make changes)\n",
        "public_url = ngrok.connect(port='80')\n",
        "print (public_url)\n",
        "! streamlit run --server.port 80 app.py"
      ]
    },
    {
      "cell_type": "code",
      "execution_count": null,
      "metadata": {
        "id": "eIynewxXaFRo"
      },
      "outputs": [],
      "source": [
        "import tensorflow as tf\n",
        "\n",
        "# ====== Save model ========\n",
        "model.save(\"model.h5\")\n",
        "\n",
        "# ====== Load model ========\n",
        "tf.keras.models.load_model(\"model.h5\")"
      ]
    },
    {
      "cell_type": "code",
      "execution_count": null,
      "metadata": {
        "id": "emboWHxFYUJ2"
      },
      "outputs": [],
      "source": [
        "model = tf.keras.models.load_model(\"model.h5\")"
      ]
    },
    {
      "cell_type": "code",
      "execution_count": null,
      "metadata": {
        "id": "eif8ArhIYYLh"
      },
      "outputs": [],
      "source": [
        "model.summary()"
      ]
    },
    {
      "cell_type": "code",
      "execution_count": null,
      "metadata": {
        "id": "Xyrjvwg5YZp7"
      },
      "outputs": [],
      "source": [
        "model.input_shape"
      ]
    },
    {
      "cell_type": "code",
      "execution_count": null,
      "metadata": {
        "id": "XFAxZ4KSZkx6"
      },
      "outputs": [],
      "source": [
        "import cv2\n",
        "import streamlit as st\n",
        "import numpy as np\n",
        "f = st.file_uploader(\"Upload Image\")"
      ]
    },
    {
      "cell_type": "code",
      "execution_count": null,
      "metadata": {
        "id": "suJKTx8WaNXB"
      },
      "outputs": [],
      "source": [
        "!streamlit run /usr/local/lib/python3.7/dist-packages/ipykernel_launcher.py"
      ]
    },
    {
      "cell_type": "code",
      "execution_count": null,
      "metadata": {
        "id": "Sh5HkRKyZmvG"
      },
      "outputs": [],
      "source": [
        "if f is not None:\n",
        "  file_bytes = np.asarray(bytearray(f.read()), dtype=np.uint8)\n",
        "  image = cv2.imdecode(file_bytes, 1)\n",
        "  st.image(image, channels=\"BGR\")"
      ]
    },
    {
      "cell_type": "code",
      "source": [
        "scsd"
      ],
      "metadata": {
        "id": "dpX_l8NaAyhn"
      },
      "execution_count": null,
      "outputs": []
    },
    {
      "cell_type": "code",
      "execution_count": null,
      "metadata": {
        "id": "ArX1YibMZu_4"
      },
      "outputs": [],
      "source": [
        "with open(\"/content/drive/MyDrive/shoedataset/Fake/IMG_9368.PNG\", \"rb\") as f:\n",
        "  file_bytes = np.asarray(bytearray(f.read()))\n",
        "  image = cv2.imdecode(file_bytes, 1)\n",
        "import plotly.express as px\n",
        "print(\"Shape of image:\")\n",
        "print(image.shape)\n",
        "print(f\"Maximum value in the image: \")\n",
        "print(image.max())\n",
        "print(\"Minimum value in the image:\")\n",
        "print(image.min())\n",
        "\n",
        "# Here we convert to RGB because our plotting function takes in RGB images\n",
        "px.imshow(cv2.cvtColor(image, cv2.COLOR_BGR2RGB))"
      ]
    },
    {
      "cell_type": "code",
      "execution_count": null,
      "metadata": {
        "id": "1uM9wQnlcsG4"
      },
      "outputs": [],
      "source": [
        "resized = cv2.resize(image, (227, 227), interpolation=cv2.INTER_LANCZOS4)\n",
        "print(resized.shape)\n",
        "px.imshow(cv2.cvtColor(resized, cv2.COLOR_BGR2RGB))"
      ]
    },
    {
      "cell_type": "code",
      "execution_count": null,
      "metadata": {
        "id": "yq9jtoz-csh_"
      },
      "outputs": [],
      "source": [
        "gray_1d = np.mean(resized, axis=-1)\n",
        "gray = np.zeros_like(resized)\n",
        "gray[:,:,0] = gray_1d\n",
        "gray[:,:,1] = gray_1d\n",
        "gray[:,:,2] = gray_1d"
      ]
    },
    {
      "cell_type": "code",
      "execution_count": null,
      "metadata": {
        "id": "6JZ0lDAWcu_5"
      },
      "outputs": [],
      "source": [
        "px.imshow(gray)"
      ]
    },
    {
      "cell_type": "code",
      "execution_count": null,
      "metadata": {
        "id": "kDxIex5fcwaP"
      },
      "outputs": [],
      "source": [
        "normalized = gray/255\n",
        "px.imshow(normalized)"
      ]
    },
    {
      "cell_type": "code",
      "execution_count": null,
      "metadata": {
        "id": "Q8CJ66jLcyVy"
      },
      "outputs": [],
      "source": [
        "print(\"Shape of image:\")\n",
        "print(normalized.shape)\n",
        "print(f\"Maximum value in the image: \")\n",
        "print(normalized.max())\n",
        "print(\"Minimum value in the image:\")\n",
        "print(normalized.min())"
      ]
    },
    {
      "cell_type": "code",
      "execution_count": null,
      "metadata": {
        "id": "Eulk6Pg1c13j"
      },
      "outputs": [],
      "source": [
        "OPTIONS = ['Fake', 'Real']"
      ]
    },
    {
      "cell_type": "code",
      "execution_count": null,
      "metadata": {
        "id": "WhnXpoDgc6GI"
      },
      "outputs": [],
      "source": [
        "model_input = np.expand_dims(normalized,0)\n",
        "scores = model.predict(model_input)\n",
        "scores"
      ]
    },
    {
      "cell_type": "code",
      "execution_count": null,
      "metadata": {
        "id": "CkO8h3Rdc8VR"
      },
      "outputs": [],
      "source": [
        "  df = pd.DataFrame()\n",
        "  df[\"Options\"] = OPTIONS\n",
        "  df[\"Scores\"] = scores.flatten()\n",
        "  px.bar(df, x='Options', y='Scores', title=\"Model scores for each type\")"
      ]
    },
    {
      "cell_type": "code",
      "execution_count": null,
      "metadata": {
        "id": "8p99W_LOdBLS"
      },
      "outputs": [],
      "source": [
        "prediction = OPTIONS[scores.argmax()]\n",
        "print(prediction)"
      ]
    },
    {
      "cell_type": "markdown",
      "metadata": {
        "id": "UlA7OlbFgwFb"
      },
      "source": [
        "#combined method"
      ]
    },
    {
      "cell_type": "markdown",
      "metadata": {
        "id": "pmCjvc3g2NQ4"
      },
      "source": []
    },
    {
      "cell_type": "code",
      "execution_count": null,
      "metadata": {
        "id": "QU6iIU5b2NcJ"
      },
      "outputs": [],
      "source": [
        "!pip install --upgrade google-api-python-client google-auth-httplib2 google-auth-oauthlib"
      ]
    },
    {
      "cell_type": "code",
      "execution_count": null,
      "metadata": {
        "id": "VrFN45ZOhwS5"
      },
      "outputs": [],
      "source": [
        "!pip install st-btn-select"
      ]
    },
    {
      "cell_type": "code",
      "execution_count": null,
      "metadata": {
        "id": "-hgkwO8ghC8j"
      },
      "outputs": [],
      "source": [
        "#@title Run this cell to initialize your website!\n",
        "%%writefile app.py\n",
        "import streamlit as st\n",
        "from joblib import load\n",
        "import numpy as np\n",
        "import cv2\n",
        "from datetime import datetime\n",
        "from keras.models import load_model\n",
        "import streamlit as st\n",
        "import numpy as np\n",
        "import glob\n",
        "import pandas as pd\n",
        "import tensorflow as tf\n",
        "from PIL import Image, ImageOps\n",
        "import keras\n",
        "from datetime import date\n",
        "from st_btn_select import st_btn_select\n",
        "\n",
        "selection = st_btn_select(('CHECK YOUR SHOES', 'ABOUT'))\n",
        "\n",
        "if selection == 'CHECK YOUR SHOES':\n",
        "\n",
        "    st.title(\"Shoethentic\")\n",
        "    st.header(\"Created by Julia Huang & Justin Huang\")\n",
        "    st.header(\"Detect if your shoes are fake or not via AI!\")\n",
        "    st.subheader(\"Quick and easy; you only need to upload images to receive an automatic result!\")\n",
        "\n",
        "\n",
        "\n",
        "    image = st.file_uploader(label = \"Upload an image for analysis:\", type = ['png', 'jpg', 'jpeg', 'tif', 'tiff', 'raw', 'webp'])\n",
        "\n",
        "    def import_and_predict(image_data, model):\n",
        "        size = (227, 227)\n",
        "        image = ImageOps.fit(image_data, size, Image.ANTIALIAS)\n",
        "        img = tf.keras.utils.img_to_array(image)\n",
        "        img = tf.expand_dims(img, 0)\n",
        "        probs = model.predict(img)\n",
        "        score = tf.nn.softmax(probs[0])\n",
        "        text = (\"Shoethentic predicts that this is an image of **{} shoe with {:.2f}% confidence**.\"\n",
        "        .format(class_names[np.argmax(score)], 100 * np.max(score)))\n",
        "        return text\n",
        "\n",
        "    loaded_model = tf.keras.models.load_model('model.h5')\n",
        "    class_names = ['Fake', 'Real']\n",
        "\n",
        "    predictionText = \"Prediction: Waiting for an image upload\"\n",
        "\n",
        "    if image is not None:\n",
        "        st.image(image)\n",
        "        predictionText = (import_and_predict(Image.open(image), loaded_model))\n",
        "\n",
        "    st.markdown(predictionText)\n",
        "\n",
        "\n",
        "\n",
        "if selection == 'ABOUT':\n",
        "    st.title(\"About\")\n",
        "\n",
        "    st.subheader(\"About the Creator\")\n",
        "    st.markdown(\"Shoethentic's web app and model is built by Julia Huang, a current student and developer at Sire, and the dataset is created by Justin Huang.\")\n",
        "\n",
        "    st.subheader(\"Mission\")\n",
        "    st.markdown(\"Due to the high prevalence of counterfeit shoe production, the goal of **Shoethentic** is to provide the sneakerhead community an opportunity to check the authenticity of each and every shoe they buy. **Shoethentic** aims to make this checking process simpler and more convenient by utilizing AI & machine learning.\")\n",
        "    st.subheader(\"How Shoethentic was Built\")\n",
        "\n",
        "    st.markdown(\"Shoethentic has two parts: the AI model and web app. The AI model is built using the TensorFlow framework while the web app is built using Streamlit. We trained the model on a dataset consisting of fake and real shoe images sourced from the CheckCheck mobile app.\")\n",
        "\n",
        "    st.subheader(\"Future of Shoethentic\")\n",
        "    st.markdown(\"We plan to improve the accuracy of the AI model even more when checking for shoes and integrate it into the Sire website later on.\")"
      ]
    },
    {
      "cell_type": "code",
      "execution_count": null,
      "metadata": {
        "id": "pvM0Js1phH7Q"
      },
      "outputs": [],
      "source": [
        "from pyngrok import ngrok\n",
        "#Publish Web App (Run this again whenever you make changes)\n",
        "public_url = ngrok.connect(port='80')\n",
        "print (public_url)\n",
        "! streamlit run --server.port 80 app.py"
      ]
    },
    {
      "cell_type": "code",
      "source": [
        "!kill port='80'"
      ],
      "metadata": {
        "id": "Iqe7GjLycYFo"
      },
      "execution_count": null,
      "outputs": []
    }
  ],
  "metadata": {
    "colab": {
      "provenance": [],
      "authorship_tag": "ABX9TyMliyTQcYbdcS0TZByRZm/G",
      "include_colab_link": true
    },
    "kernelspec": {
      "display_name": "Python 3",
      "name": "python3"
    },
    "language_info": {
      "name": "python"
    },
    "accelerator": "GPU"
  },
  "nbformat": 4,
  "nbformat_minor": 0
}